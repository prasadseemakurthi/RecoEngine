{
 "cells": [
  {
   "cell_type": "code",
   "execution_count": 7,
   "metadata": {
    "collapsed": true
   },
   "outputs": [],
   "source": [
    "import pandas as pd\n",
    "from math import sqrt"
   ]
  },
  {
   "cell_type": "code",
   "execution_count": 2,
   "metadata": {
    "collapsed": true
   },
   "outputs": [],
   "source": [
    "critics={'Lisa Rose': {'Lady in the Water': 2.5, 'Snakes on a Plane': 3.5,\n",
    "'Just My Luck': 3.0, 'Superman Returns': 3.5, 'You, Me and Dupree': 2.5,\n",
    "'The Night Listener': 3.0},\n",
    "'Gene Seymour': {'Lady in the Water': 3.0, 'Snakes on a Plane': 3.5,\n",
    "'Just My Luck': 1.5, 'Superman Returns': 5.0, 'The Night Listener': 3.0,\n",
    "'You, Me and Dupree': 3.5},\n",
    "'Michael Phillips': {'Lady in the Water': 2.5, 'Snakes on a Plane': 3.0,\n",
    "'Superman Returns': 3.5, 'The Night Listener': 4.0},\n",
    "'Claudia Puig': {'Snakes on a Plane': 3.5, 'Just My Luck': 3.0,\n",
    "'The Night Listener': 4.5, 'Superman Returns': 4.0,\n",
    "'You, Me and Dupree': 2.5},\n",
    "'Mick LaSalle': {'Lady in the Water': 3.0, 'Snakes on a Plane': 4.0,\n",
    "'Just My Luck': 2.0, 'Superman Returns': 3.0, 'The Night Listener': 3.0,\n",
    "'You, Me and Dupree': 2.0},\n",
    "'Jack Matthews': {'Lady in the Water': 3.0, 'Snakes on a Plane': 4.0,\n",
    "'The Night Listener': 3.0, 'Superman Returns': 5.0, 'You, Me and Dupree': 3.5},\n",
    "'Toby': {'Snakes on a Plane':4.5,'You, Me and Dupree':1.0,'Superman Returns':4.0}}"
   ]
  },
  {
   "cell_type": "code",
   "execution_count": 3,
   "metadata": {
    "collapsed": false
   },
   "outputs": [
    {
     "data": {
      "text/plain": [
       "{'Claudia Puig': {'Just My Luck': 3.0,\n",
       "  'Snakes on a Plane': 3.5,\n",
       "  'Superman Returns': 4.0,\n",
       "  'The Night Listener': 4.5,\n",
       "  'You, Me and Dupree': 2.5},\n",
       " 'Gene Seymour': {'Just My Luck': 1.5,\n",
       "  'Lady in the Water': 3.0,\n",
       "  'Snakes on a Plane': 3.5,\n",
       "  'Superman Returns': 5.0,\n",
       "  'The Night Listener': 3.0,\n",
       "  'You, Me and Dupree': 3.5},\n",
       " 'Jack Matthews': {'Lady in the Water': 3.0,\n",
       "  'Snakes on a Plane': 4.0,\n",
       "  'Superman Returns': 5.0,\n",
       "  'The Night Listener': 3.0,\n",
       "  'You, Me and Dupree': 3.5},\n",
       " 'Lisa Rose': {'Just My Luck': 3.0,\n",
       "  'Lady in the Water': 2.5,\n",
       "  'Snakes on a Plane': 3.5,\n",
       "  'Superman Returns': 3.5,\n",
       "  'The Night Listener': 3.0,\n",
       "  'You, Me and Dupree': 2.5},\n",
       " 'Michael Phillips': {'Lady in the Water': 2.5,\n",
       "  'Snakes on a Plane': 3.0,\n",
       "  'Superman Returns': 3.5,\n",
       "  'The Night Listener': 4.0},\n",
       " 'Mick LaSalle': {'Just My Luck': 2.0,\n",
       "  'Lady in the Water': 3.0,\n",
       "  'Snakes on a Plane': 4.0,\n",
       "  'Superman Returns': 3.0,\n",
       "  'The Night Listener': 3.0,\n",
       "  'You, Me and Dupree': 2.0},\n",
       " 'Toby': {'Snakes on a Plane': 4.5,\n",
       "  'Superman Returns': 4.0,\n",
       "  'You, Me and Dupree': 1.0}}"
      ]
     },
     "execution_count": 3,
     "metadata": {},
     "output_type": "execute_result"
    }
   ],
   "source": [
    "critics #Dictonaries of dictonaries with Person name as Key; values = Movies and rating"
   ]
  },
  {
   "cell_type": "code",
   "execution_count": 4,
   "metadata": {
    "collapsed": false
   },
   "outputs": [
    {
     "data": {
      "text/plain": [
       "{'Snakes on a Plane': 4.5, 'Superman Returns': 4.0, 'You, Me and Dupree': 1.0}"
      ]
     },
     "execution_count": 4,
     "metadata": {},
     "output_type": "execute_result"
    }
   ],
   "source": [
    "critics['Toby'] #Gives the list of movies and ratings for Toby"
   ]
  },
  {
   "cell_type": "code",
   "execution_count": 6,
   "metadata": {
    "collapsed": false
   },
   "outputs": [
    {
     "data": {
      "text/plain": [
       "4.5"
      ]
     },
     "execution_count": 6,
     "metadata": {},
     "output_type": "execute_result"
    }
   ],
   "source": [
    "critics['Toby']['Snakes on a Plane'] #Gives the ratings for each movie"
   ]
  },
  {
   "cell_type": "markdown",
   "metadata": {},
   "source": [
    "# Eucledian distance "
   ]
  },
  {
   "cell_type": "markdown",
   "metadata": {},
   "source": [
    "find the distance similarity between two persons who rated for the same movies and smaller distance meant people with similar rating (Will assign higher score for smaller eucledian distance)"
   ]
  },
  {
   "cell_type": "code",
   "execution_count": 20,
   "metadata": {
    "collapsed": false
   },
   "outputs": [],
   "source": [
    "def sim_distance(prefs,person1,person2):\n",
    "# Get the list of shared_items\n",
    "    si={}\n",
    "    for item in prefs[person1]:\n",
    "        if item in prefs[person2]:\n",
    "            si[item]=1\n",
    "# if they have no ratings in common, return 0\n",
    "    if len(si)==0: return 0\n",
    "# Add up the squares of all the differences\n",
    "    sum_of_squares=sum([pow(prefs[person1][item]-prefs[person2][item],2)\n",
    "            for item in prefs[person1] if item in prefs[person2]])\n",
    "    return 1/(1+sum_of_squares)"
   ]
  },
  {
   "cell_type": "code",
   "execution_count": 21,
   "metadata": {
    "collapsed": false
   },
   "outputs": [
    {
     "data": {
      "text/plain": [
       "0.14814814814814814"
      ]
     },
     "execution_count": 21,
     "metadata": {},
     "output_type": "execute_result"
    }
   ],
   "source": [
    "sim_distance(critics,'Lisa Rose','Gene Seymour')"
   ]
  },
  {
   "cell_type": "code",
   "execution_count": 22,
   "metadata": {
    "collapsed": false
   },
   "outputs": [
    {
     "data": {
      "text/plain": [
       "0.3076923076923077"
      ]
     },
     "execution_count": 22,
     "metadata": {},
     "output_type": "execute_result"
    }
   ],
   "source": [
    "sim_distance(critics,'Mick LaSalle','Toby')"
   ]
  },
  {
   "cell_type": "markdown",
   "metadata": {},
   "source": [
    "# Pearson Correlation"
   ]
  },
  {
   "cell_type": "markdown",
   "metadata": {},
   "source": [
    "This tells how well a given point fits on the straight line. Pearson correlations tend to perform better on the non-normalized ratings i.e.., it accounts for implied person bias in the ratings (grade inflations). [As correlations tend to ignore the absolute magnitude and considers how much variables change togather]"
   ]
  },
  {
   "cell_type": "code",
   "execution_count": 36,
   "metadata": {
    "collapsed": false
   },
   "outputs": [],
   "source": [
    "def sim_pearson(prefs,person1,person2):\n",
    "    similarity_index = {}\n",
    "    for item in prefs[person1]:\n",
    "        if item in prefs[person2]:\n",
    "            similarity_index[item] = 1\n",
    "    #The number of common elements        \n",
    "    n = len(similarity_index)\n",
    "    \n",
    "    #If there are no common items between two critics\n",
    "    if(n ==0):\n",
    "        return 0\n",
    "    \n",
    "    #Similarity index holds the common items across two different critics person1,person2\n",
    "    \n",
    "    #Sum of ratings for Person1\n",
    "    sum1 = sum([prefs[person1][movie] for movie in similarity_index])\n",
    "    sum2 = sum([prefs[person2][movie] for movie in similarity_index])\n",
    "    \n",
    "    #Sum of squares\n",
    "    sum1_sq = sum([pow(prefs[person1][movie],2) \n",
    "                       for movie in similarity_index])\n",
    "    \n",
    "    sum2_sq = sum([pow(prefs[person2][movie],2) \n",
    "                       for movie in similarity_index]) \n",
    "    \n",
    "    #Sum of products\n",
    "    sum_products = sum([prefs[person1][movie]* prefs[person2][movie] for movie in similarity_index])\n",
    "    \n",
    "    #calculate person formula\n",
    "    \n",
    "    numerator = sum_products - (sum1* sum2/n)\n",
    "    denominator = sqrt((sum1_sq - pow(sum1,2)/n) * (sum2_sq - pow(sum2,2)/n))\n",
    "    if denominator ==0:\n",
    "        return 0\n",
    "    r = numerator/denominator\n",
    "    return r"
   ]
  },
  {
   "cell_type": "code",
   "execution_count": 37,
   "metadata": {
    "collapsed": false
   },
   "outputs": [],
   "source": [
    "#Function to find the similar critics agains\n",
    "#Ouput returns a sorted tuple with most similar to the given person\n",
    "def top_matches(critics,person, n=5, similarity =sim_pearson):\n",
    "    scores = [(similarity(critics,person, other), other) for other in critics if other != person]\n",
    "    scores.sort()\n",
    "    scores.reverse()\n",
    "    return scores[0:n]"
   ]
  },
  {
   "cell_type": "code",
   "execution_count": 38,
   "metadata": {
    "collapsed": false
   },
   "outputs": [
    {
     "data": {
      "text/plain": [
       "[(0.9912407071619299, 'Lisa Rose'),\n",
       " (0.9244734516419049, 'Mick LaSalle'),\n",
       " (0.8934051474415647, 'Claudia Puig'),\n",
       " (0.66284898035987, 'Jack Matthews'),\n",
       " (0.38124642583151164, 'Gene Seymour')]"
      ]
     },
     "execution_count": 38,
     "metadata": {},
     "output_type": "execute_result"
    }
   ],
   "source": [
    "top_matches(critics,'Toby')"
   ]
  },
  {
   "cell_type": "markdown",
   "metadata": {},
   "source": [
    "# Recommending a movie"
   ]
  },
  {
   "cell_type": "code",
   "execution_count": 44,
   "metadata": {
    "collapsed": true
   },
   "outputs": [],
   "source": [
    "def get_recommendations(prefs, person, similarity = sim_pearson):\n",
    "    totals = {}\n",
    "    simSums= {}\n",
    "    for other in prefs:\n",
    "        \n",
    "        if other == person:\n",
    "            continue\n",
    "        sim = similarity(prefs,person,other) #gives the similarity of other with person\n",
    "        \n",
    "        if sim <= 0:\n",
    "            continue\n",
    "        \n",
    "        for item in prefs[other]:\n",
    "            \n",
    "            #Recommend movie that person hasn't watched \n",
    "            if item not in prefs[person] or prefs[person] == 0:\n",
    "                totals.setdefault(item,0)\n",
    "                totals[item] += prefs[other][item] * sim \n",
    "                simSums.setdefault(item,0)\n",
    "                simSums[item] += sim\n",
    "                ranking = [(total/simSums[item], item) for item,total in totals.items()]\n",
    "                ranking.sort()\n",
    "                ranking.reverse()\n",
    "                return ranking"
   ]
  },
  {
   "cell_type": "code",
   "execution_count": 45,
   "metadata": {
    "collapsed": false
   },
   "outputs": [
    {
     "data": {
      "text/plain": [
       "[(3.0, 'Lady in the Water')]"
      ]
     },
     "execution_count": 45,
     "metadata": {},
     "output_type": "execute_result"
    }
   ],
   "source": [
    "get_recommendations(critics,'Toby')"
   ]
  },
  {
   "cell_type": "code",
   "execution_count": 46,
   "metadata": {
    "collapsed": false
   },
   "outputs": [
    {
     "data": {
      "text/plain": [
       "'/home/prasad'"
      ]
     },
     "execution_count": 46,
     "metadata": {},
     "output_type": "execute_result"
    }
   ],
   "source": [
    "%pwd"
   ]
  },
  {
   "cell_type": "code",
   "execution_count": null,
   "metadata": {
    "collapsed": true
   },
   "outputs": [],
   "source": []
  }
 ],
 "metadata": {
  "kernelspec": {
   "display_name": "Python 3",
   "language": "python",
   "name": "python3"
  },
  "language_info": {
   "codemirror_mode": {
    "name": "ipython",
    "version": 3
   },
   "file_extension": ".py",
   "mimetype": "text/x-python",
   "name": "python",
   "nbconvert_exporter": "python",
   "pygments_lexer": "ipython3",
   "version": "3.5.1"
  }
 },
 "nbformat": 4,
 "nbformat_minor": 0
}
